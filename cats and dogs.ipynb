{
 "cells": [
  {
   "cell_type": "code",
   "execution_count": null,
   "metadata": {},
   "outputs": [
    {
     "ename": "TypeError",
     "evalue": "'numpy.ndarray' object is not callable",
     "output_type": "error",
     "traceback": [
      "\u001b[1;31m---------------------------------------------------------------------------\u001b[0m",
      "\u001b[1;31mTypeError\u001b[0m                                 Traceback (most recent call last)",
      "Cell \u001b[1;32mIn[2], line 21\u001b[0m\n\u001b[0;32m     19\u001b[0m pet_img \u001b[38;5;241m=\u001b[39mcv2\u001b[38;5;241m.\u001b[39mimread(imgpath,\u001b[38;5;241m0\u001b[39m)\n\u001b[0;32m     20\u001b[0m cv2\u001b[38;5;241m.\u001b[39mimshow(\u001b[38;5;124m'\u001b[39m\u001b[38;5;124mimage\u001b[39m\u001b[38;5;124m'\u001b[39m,pet_img)\n\u001b[1;32m---> 21\u001b[0m cv2\u001b[38;5;241m.\u001b[39mresize(\u001b[43mpet_img\u001b[49m\u001b[43m(\u001b[49m\u001b[38;5;241;43m50\u001b[39;49m\u001b[43m,\u001b[49m\u001b[38;5;241;43m50\u001b[39;49m\u001b[43m)\u001b[49m)\n\u001b[0;32m     22\u001b[0m image \u001b[38;5;241m=\u001b[39m np\u001b[38;5;241m.\u001b[39marray(pet_img)\u001b[38;5;241m.\u001b[39mflatten()\n\u001b[0;32m     23\u001b[0m data\u001b[38;5;241m.\u001b[39mappend([image,label])\n",
      "\u001b[1;31mTypeError\u001b[0m: 'numpy.ndarray' object is not callable"
     ]
    },
    {
     "ename": "",
     "evalue": "",
     "output_type": "error",
     "traceback": [
      "\u001b[1;31mThe Kernel crashed while executing code in the current cell or a previous cell. \n",
      "\u001b[1;31mPlease review the code in the cell(s) to identify a possible cause of the failure. \n",
      "\u001b[1;31mClick <a href='https://aka.ms/vscodeJupyterKernelCrash'>here</a> for more info. \n",
      "\u001b[1;31mView Jupyter <a href='command:jupyter.viewOutput'>log</a> for further details."
     ]
    }
   ],
   "source": [
    "import pandas as pd \n",
    "import numpy as np \n",
    "import seaborn as sns\n",
    "import os \n",
    "import matplotlib as plt \n",
    "from sklearn.model_selection import train_test_split\n",
    "from sklearn import svm\n",
    "import cv2\n",
    "\n",
    "dir= r'C:\\Users\\Benwari Ezekiel\\Documents\\code\\kagglecatsanddogs_5340\\PetImages'\n",
    "categories = ['Cat', 'Dog']\n",
    "data = []\n",
    "for category in categories:\n",
    "    path = os.path.join(dir,category)\n",
    "    label =categories.index(category)\n",
    "    #print(path)\n",
    "    for img in os.listdir(path):\n",
    "        imgpath = os.path.join(path,img)\n",
    "        pet_img =cv2.imread(imgpath,0)\n",
    "        #cv2.imshow('image',pet_img)\n",
    "        try:\n",
    "            cv2.resize(pet_img,(50,50))\n",
    "            image = np.array(pet_img).flatten()\n",
    "            data.append([image,label])\n",
    "        except Exception as e:\n",
    "            pass\n",
    "        \n",
    "print(len(data))\n",
    "        \n",
    "        \n",
    "    \n",
    "\n",
    "\n"
   ]
  }
 ],
 "metadata": {
  "kernelspec": {
   "display_name": "Python 3",
   "language": "python",
   "name": "python3"
  },
  "language_info": {
   "codemirror_mode": {
    "name": "ipython",
    "version": 3
   },
   "file_extension": ".py",
   "mimetype": "text/x-python",
   "name": "python",
   "nbconvert_exporter": "python",
   "pygments_lexer": "ipython3",
   "version": "3.11.9"
  }
 },
 "nbformat": 4,
 "nbformat_minor": 2
}
